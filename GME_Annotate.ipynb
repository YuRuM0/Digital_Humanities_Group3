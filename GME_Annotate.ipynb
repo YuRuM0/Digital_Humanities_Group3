{
  "cells": [
    {
      "cell_type": "code",
      "execution_count": 2,
      "metadata": {},
      "outputs": [
        {
          "name": "stdout",
          "output_type": "stream",
          "text": [
            "\u001b[31mERROR: Could not find a version that satisfies the requirement google.colab (from versions: none)\u001b[0m\u001b[31m\n",
            "\u001b[0m\n",
            "\u001b[1m[\u001b[0m\u001b[34;49mnotice\u001b[0m\u001b[1;39;49m]\u001b[0m\u001b[39;49m A new release of pip is available: \u001b[0m\u001b[31;49m24.3.1\u001b[0m\u001b[39;49m -> \u001b[0m\u001b[32;49m25.0.1\u001b[0m\n",
            "\u001b[1m[\u001b[0m\u001b[34;49mnotice\u001b[0m\u001b[1;39;49m]\u001b[0m\u001b[39;49m To update, run: \u001b[0m\u001b[32;49mpip install --upgrade pip\u001b[0m\n",
            "\u001b[31mERROR: No matching distribution found for google.colab\u001b[0m\u001b[31m\n",
            "\u001b[0mNote: you may need to restart the kernel to use updated packages.\n"
          ]
        }
      ],
      "source": [
        "pip install google.colab"
      ]
    },
    {
      "cell_type": "code",
      "execution_count": 3,
      "metadata": {
        "colab": {
          "base_uri": "https://localhost:8080/"
        },
        "id": "r7GumhgqUaum",
        "outputId": "d768e901-162a-46bd-f4dd-2cc6d2bc40a8"
      },
      "outputs": [
        {
          "ename": "ModuleNotFoundError",
          "evalue": "No module named 'google.colab'",
          "output_type": "error",
          "traceback": [
            "\u001b[0;31m---------------------------------------------------------------------------\u001b[0m",
            "\u001b[0;31mModuleNotFoundError\u001b[0m                       Traceback (most recent call last)",
            "Cell \u001b[0;32mIn[3], line 1\u001b[0m\n\u001b[0;32m----> 1\u001b[0m \u001b[38;5;28;01mfrom\u001b[39;00m \u001b[38;5;21;01mgoogle\u001b[39;00m\u001b[38;5;21;01m.\u001b[39;00m\u001b[38;5;21;01mcolab\u001b[39;00m \u001b[38;5;28;01mimport\u001b[39;00m drive\n\u001b[1;32m      2\u001b[0m \u001b[38;5;28;01mimport\u001b[39;00m \u001b[38;5;21;01mos\u001b[39;00m\n\u001b[1;32m      4\u001b[0m \u001b[38;5;66;03m# Mount Google Drive\u001b[39;00m\n",
            "\u001b[0;31mModuleNotFoundError\u001b[0m: No module named 'google.colab'"
          ]
        }
      ],
      "source": [
        "from google.colab import drive\n",
        "import os\n",
        "\n",
        "# Mount Google Drive\n",
        "drive.mount('/content/drive')\n",
        "\n",
        "# Define the shared folder path in MyDrive\n",
        "shared_folder_path = '/content/drive/MyDrive/MOASS'\n",
        "\n",
        "# List the contents of the folder\n",
        "try:\n",
        "    files = os.listdir(shared_folder_path)\n",
        "    print(\"Files in shared folder:\", files)\n",
        "except FileNotFoundError:\n",
        "    print(\"Shared folder not found, please check the folder path.\")\n"
      ]
    },
    {
      "cell_type": "code",
      "execution_count": 16,
      "metadata": {
        "id": "4h1RU8TIQhM3"
      },
      "outputs": [],
      "source": [
        "file_to_annotate = '/content/drive/MyDrive/MOASS/Annotate/rDDintoGME_comments_features_500.csv'"
      ]
    },
    {
      "cell_type": "code",
      "execution_count": null,
      "metadata": {
        "id": "BW8Np5uePlqv"
      },
      "outputs": [],
      "source": [
        "import ipywidgets as widgets\n",
        "from IPython.display import display, clear_output\n",
        "import pandas as pd\n",
        "\n",
        "def annotate_from_csv(csv_file, score_column, annotator_name, annotation_column=None):\n",
        "    \"\"\"\n",
        "    Function to annotate comments from a CSV file and save the results.\n",
        "\n",
        "    csv_file: str - Path to the CSV file.\n",
        "    score_column: str - The column with Vader scores.\n",
        "    annotator_name: str - The name of the annotator.\n",
        "    annotation_column: str - The column where annotations will be stored (optional).\n",
        "    \"\"\"\n",
        "    # Generate annotation column name if not provided\n",
        "    if annotation_column is None:\n",
        "        annotation_column = f'annotation_{annotator_name}'\n",
        "\n",
        "    # Load CSV data\n",
        "    df = pd.read_csv(csv_file)\n",
        "\n",
        "    # Ensure the annotation column exists in the DataFrame\n",
        "    if annotation_column not in df.columns:\n",
        "        df[annotation_column] = None  # Add the annotation column if it doesn't exist\n",
        "\n",
        "    # Filter rows that have a score and no existing annotation\n",
        "    unannotated_rows = df[df[score_column].notna() & df[annotation_column].isna()]\n",
        "\n",
        "    # Check if there are any unannotated rows\n",
        "    if unannotated_rows.empty:\n",
        "        print(\"No rows left to annotate.\")\n",
        "        return\n",
        "\n",
        "    # Initialize a counter to go through the unannotated rows\n",
        "    row_idx = 0\n",
        "\n",
        "    def display_row(idx):\n",
        "        clear_output(wait=True)  # Clear the previous output before displaying the new one\n",
        "        row = unannotated_rows.iloc[idx]\n",
        "\n",
        "        # Display the comment for annotation\n",
        "        comment_label = widgets.HTML(value=f\"<b>Comment:</b> {row['comments']}\")\n",
        "\n",
        "        # Display the original Vader score\n",
        "        score_label = widgets.HTML(value=f\"<i>Original Vader Score: {row[score_column]}</i>\")\n",
        "\n",
        "        # Create a slider to annotate the score, initialized with the original Vader score\n",
        "        slider = widgets.FloatSlider(\n",
        "            value=row[score_column],  # Start the slider at the value of the original Vader score\n",
        "            min=-1.0, max=1.0, step=0.01, description=\"Score:\"\n",
        "        )\n",
        "\n",
        "        confirm_btn = widgets.Button(description=\"Confirm\")\n",
        "\n",
        "        # When the user confirms, the annotation is saved and the next row is displayed\n",
        "        def on_confirm(b, _idx=idx, _slider=slider):\n",
        "            df.at[_idx, annotation_column] = _slider.value  # Save the annotation\n",
        "            df.at[_idx, 'annotator_name'] = annotator_name  # Save annotator's name\n",
        "            save_df(df, csv_file)  # Save the updated DataFrame immediately after each annotation\n",
        "            print(f\"Annotation saved for row {_idx}: {_slider.value}\")\n",
        "            b.disabled = True  # Disable the button after confirmation\n",
        "\n",
        "            # Move to the next row (if any)\n",
        "            if idx + 1 < len(unannotated_rows):\n",
        "                display_row(idx + 1)\n",
        "            else:\n",
        "                print(\"All annotations completed.\")\n",
        "\n",
        "        confirm_btn.on_click(on_confirm)\n",
        "\n",
        "        # Display the widgets (comment, score, slider, and confirm button)\n",
        "        display(widgets.VBox([comment_label, score_label, slider, confirm_btn]))\n",
        "\n",
        "    # Start the annotation process from the first row\n",
        "    display_row(row_idx)\n",
        "\n",
        "def save_df(df, csv_file):\n",
        "    \"\"\" Save the DataFrame after annotations \"\"\"\n",
        "    df.to_csv(csv_file, index=False)  # Save to the original CSV file\n",
        "\n",
        "# Example usage of the function as a widget:\n",
        "annotate_from_csv(\n",
        "    csv_file=file_to_annotate,  # Path to your CSV file\n",
        "    score_column='neg',    # The column with Vader scores, other options 'pos'/'neu', adjust after finishing first annotation round\n",
        "    annotator_name='Your Name',     # Name of the annotator\n",
        "    annotation_column=None  # The column where annotations will be stored, can be dynamic\n",
        ")"
      ]
    }
  ],
  "metadata": {
    "colab": {
      "provenance": []
    },
    "kernelspec": {
      "display_name": "base",
      "language": "python",
      "name": "python3"
    },
    "language_info": {
      "codemirror_mode": {
        "name": "ipython",
        "version": 3
      },
      "file_extension": ".py",
      "mimetype": "text/x-python",
      "name": "python",
      "nbconvert_exporter": "python",
      "pygments_lexer": "ipython3",
      "version": "3.12.2"
    }
  },
  "nbformat": 4,
  "nbformat_minor": 0
}
